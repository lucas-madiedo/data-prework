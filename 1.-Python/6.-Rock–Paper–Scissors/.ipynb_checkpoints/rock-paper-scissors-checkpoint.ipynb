{
 "cells": [
  {
   "cell_type": "markdown",
   "metadata": {},
   "source": [
    "<img src=\"https://bit.ly/2VnXWr2\" width=\"100\" align=\"left\">"
   ]
  },
  {
   "cell_type": "markdown",
   "metadata": {},
   "source": [
    "# Rock, Paper & Scissors\n",
    "\n",
    "Let's play the famous game against our computer. You can check the rules [here](https://en.wikipedia.org/wiki/Rock%E2%80%93paper%E2%80%93scissors). \n",
    "\n",
    "## Task\n",
    "Create a program that imitates the playability of the well known game of rock, paper, scissors. Follow the guidelines provided.\n",
    "\n",
    "## Tools\n",
    "1. Loop: **for/while**\n",
    "2. Functions: **input(), print()...**\n",
    "3. Conditional statements: **if, elif, else**\n",
    "4. Definition of functions. Modular programming\n",
    "5. Import modules\n",
    "\n",
    "**To solve this challenge, the use of functions is recommended.**\n",
    "\n",
    "#### 1. Import the choice function of the random module."
   ]
  },
  {
   "cell_type": "code",
   "execution_count": 132,
   "metadata": {},
   "outputs": [],
   "source": [
    "import random\n"
   ]
  },
  {
   "cell_type": "markdown",
   "metadata": {},
   "source": [
    "#### 2. Create a list that includes the 3 possible gesture options of the game: 'rock', 'paper' or 'scissors'. Store the list in a variable called `gestures`."
   ]
  },
  {
   "cell_type": "code",
   "execution_count": 133,
   "metadata": {},
   "outputs": [],
   "source": [
    "opciones = ['piedra', 'papel', 'tijera']"
   ]
  },
  {
   "cell_type": "markdown",
   "metadata": {},
   "source": [
    "#### 3. Create a variable called `n_rounds` to store the maximum number of rounds to play in a game. \n",
    "Remember that the number of rounds must be odd: 1, 3, 5, ..."
   ]
  },
  {
   "cell_type": "code",
   "execution_count": 134,
   "metadata": {},
   "outputs": [],
   "source": [
    "ronda = 1\n",
    "rondas_max = 9"
   ]
  },
  {
   "cell_type": "markdown",
   "metadata": {},
   "source": [
    "#### 4. Create a variable called `rounds_to_win` to store the number of rounds that a player must win to win the game.\n",
    "**Hint**: the value stored in `rounds_to_win` depends on the value of `n_rounds`. "
   ]
  },
  {
   "cell_type": "code",
   "execution_count": 135,
   "metadata": {},
   "outputs": [],
   "source": [
    "rondas_ganar = 3"
   ]
  },
  {
   "cell_type": "markdown",
   "metadata": {},
   "source": [
    "#### 5. Create two variables to store the number of rounds that the computer and the player have won. Call these variables `cpu_score` and `player_score`."
   ]
  },
  {
   "cell_type": "code",
   "execution_count": 136,
   "metadata": {},
   "outputs": [],
   "source": [
    "puntos_usuario = 0\n",
    "puntos_cpu = 0\n",
    "acumulado_usuario = 0 \n",
    "acumulado_cpu = 0"
   ]
  },
  {
   "cell_type": "markdown",
   "metadata": {},
   "source": [
    "#### 6. Define a function that randomly returns one of the 3 gesture options.\n",
    "You will use this function to simulate the gesture choice of the computer. "
   ]
  },
  {
   "cell_type": "code",
   "execution_count": 137,
   "metadata": {},
   "outputs": [],
   "source": [
    "def Jugada_cpu():\n",
    "    'saca un elemento aleatorio de la lista opción'\n",
    "    return random.choice(opciones)"
   ]
  },
  {
   "cell_type": "markdown",
   "metadata": {},
   "source": [
    "#### 7. Define a function that asks the player which is the gesture he or she wants to show: 'rock', 'paper' or 'scissors'.\n",
    "The player should only be allowed to choose one of the 3 gesture options. If the player's choice is not rock, paper or scissors, keep asking until it is."
   ]
  },
  {
   "cell_type": "code",
   "execution_count": 138,
   "metadata": {},
   "outputs": [],
   "source": [
    "def Jugada_usuario ():\n",
    "    '''Pide una jugada al usuario, sigue pidiendo hasta que está dentro de 'opciones'. devueve la jugada'''\n",
    "\n",
    "    jugada = input('¿Qué quieres jugar?:  ')\n",
    "    \n",
    "    while jugada not in opciones:\n",
    "        jugada = input('Introduce una opción válida:  ')\n",
    "    return jugada"
   ]
  },
  {
   "cell_type": "markdown",
   "metadata": {},
   "source": [
    "#### 8. Define a function that checks who won a round. \n",
    "The function should return 0 if there is a tie, 1 if the computer wins and 2 if the player wins."
   ]
  },
  {
   "cell_type": "code",
   "execution_count": 139,
   "metadata": {},
   "outputs": [],
   "source": [
    "def Resultado(usuario, compu):\n",
    "    '''Si gana el usuario: 1  //  si gana la compu: 2  // si empate: 0'''\n",
    "    if usuario == 'tijera':\n",
    "        if compu == 'piedra':\n",
    "            return 2\n",
    "        elif compu == 'papel':\n",
    "            return 1\n",
    "        else:\n",
    "            return 0\n",
    "\n",
    "    elif usuario == 'piedra':\n",
    "        if compu == 'papel':\n",
    "            return 2\n",
    "        elif compu == 'tijera':\n",
    "            return 1\n",
    "        else:\n",
    "            return 0\n",
    "\n",
    "    elif usuario == 'papel':\n",
    "        if compu == 'tijera':\n",
    "            return 2\n",
    "        elif compu == 'piedra':\n",
    "            return 1\n",
    "        else:\n",
    "            return 0\n"
   ]
  },
  {
   "cell_type": "markdown",
   "metadata": {},
   "source": [
    "#### 9. Define a function that prints the choice of the computer, the choice of the player and a message that announces who won the current round. \n",
    "You should also use this function to update the variables that count the number of rounds that the computer and the player have won. The score of the winner increases by one point. If there is a tie, the score does not increase."
   ]
  },
  {
   "cell_type": "code",
   "execution_count": 140,
   "metadata": {
    "scrolled": true
   },
   "outputs": [],
   "source": [
    "def Imprimir_resultado (resultado):\n",
    "    if resultado == 1:\n",
    "        print (('ganas!').upper())\n",
    "    elif resultado == 2:\n",
    "        print (('pierdes').upper())\n",
    "    else:\n",
    "        print (('empate').upper())"
   ]
  },
  {
   "cell_type": "markdown",
   "metadata": {},
   "source": [
    "#### 10. Now it's time to code the execution of the game using the functions and variables you defined above. \n",
    "\n",
    "First, create a loop structure that repeats while no player reaches the minimum score necessary to win and the number of rounds is less than the maximum number of rounds to play in a game.  \n",
    "\n",
    "Inside the loop, use the functions and variables above to create the execution of a round: ask for the player's choice, generate the random choice of the computer, show the round results, update the scores, etc. "
   ]
  },
  {
   "cell_type": "code",
   "execution_count": 141,
   "metadata": {},
   "outputs": [
    {
     "name": "stdout",
     "output_type": "stream",
     "text": [
      "Partida: 1: \n",
      "¿Qué quieres jugar?:  papel\n",
      "Compu juega: piedra\n",
      "GANAS!\n",
      "\tRacha usuario:1/3\n",
      "\tRacha compu: 0/3\n",
      "\n",
      "\n",
      "Partida: 2: \n",
      "¿Qué quieres jugar?:  papel\n",
      "Compu juega: piedra\n",
      "GANAS!\n",
      "\tRacha usuario:2/3\n",
      "\tRacha compu: 0/3\n",
      "\n",
      "\n",
      "Partida: 3: \n",
      "¿Qué quieres jugar?:  papel\n",
      "Compu juega: tijera\n",
      "PIERDES\n",
      "\tRacha usuario:0/3\n",
      "\tRacha compu: 1/3\n",
      "\n",
      "\n",
      "Partida: 4: \n",
      "¿Qué quieres jugar?:  papel\n",
      "Compu juega: tijera\n",
      "PIERDES\n",
      "\tRacha usuario:0/3\n",
      "\tRacha compu: 2/3\n",
      "\n",
      "\n",
      "Partida: 5: \n",
      "¿Qué quieres jugar?:  papel\n",
      "Compu juega: tijera\n",
      "PIERDES\n",
      "\tRacha usuario:0/3\n",
      "\tRacha compu: 3/3\n",
      "\n",
      "\n"
     ]
    }
   ],
   "source": [
    "while ronda <= rondas_max and puntos_cpu < rondas_ganar and puntos_usuario < rondas_ganar:\n",
    "    print('Partida: ' + str(ronda) + ': ')\n",
    "    usuario = Jugada_usuario()\n",
    "    cpu = Jugada_cpu()\n",
    "    print('Compu juega: ' + cpu)\n",
    "    resultado = Resultado(usuario,cpu)\n",
    "    Imprimir_resultado (resultado)\n",
    "\n",
    "    if resultado == 1:\n",
    "        puntos_usuario +=1\n",
    "        puntos_cpu = 0\n",
    "        acumulado_usuario += 1\n",
    "        \n",
    "    elif resultado == 2:\n",
    "        puntos_cpu +=1\n",
    "        puntos_usuario = 0\n",
    "        acumulado_cpu += 1\n",
    "\n",
    "    print('\\tRacha usuario:' + str(puntos_usuario)+'/3')\n",
    "    print('\\tRacha compu: ' + str(puntos_cpu)+'/3\\n\\n')\n",
    "    ronda += 1"
   ]
  },
  {
   "cell_type": "markdown",
   "metadata": {},
   "source": [
    "#### 11. Print the winner of the game based on who won more rounds.\n",
    "Remember that the game might be tied. "
   ]
  },
  {
   "cell_type": "code",
   "execution_count": 142,
   "metadata": {},
   "outputs": [
    {
     "name": "stdout",
     "output_type": "stream",
     "text": [
      "La máquina ha ganado esta vez\n"
     ]
    }
   ],
   "source": [
    "if acumulado_usuario > acumulado_cpu:\n",
    "    print('Has vencido a la máquina')\n",
    "elif acumulado_usuario < acumulado_cpu:\n",
    "    print('La máquina ha ganado esta vez')\n",
    "else:\n",
    "    print('Ha terminado en empate')"
   ]
  },
  {
   "cell_type": "markdown",
   "metadata": {},
   "source": [
    "# Bonus: Rock, Paper, Scissors, Lizard & Spock\n",
    "![](images/rpsls.jpg)\n",
    "\n",
    "In this challenge, you need to improve the previous game by adding two new options. To know more about the rules of the improved version of rock, paper, scissors, check this [link](http://www.samkass.com/theories/RPSSL.html). \n",
    "\n",
    "In addition, you will also need to improve how the game interacts with the player: the number of rounds to play, which must be an odd number, will be requested to the user until a valid number is entered. Define a new function to make that request.\n",
    "\n",
    "**Hint**: Try to reuse the code that you already coded in the previous challenge. If your code is efficient, this bonus will only consist of simple modifications to the original game."
   ]
  },
  {
   "cell_type": "code",
   "execution_count": 143,
   "metadata": {},
   "outputs": [
    {
     "name": "stdout",
     "output_type": "stream",
     "text": [
      "Cúantas rondas quieres jugar?: 4\n",
      "El número de rondas debe ser impar: 6\n",
      "El número de rondas debe ser impar: 8\n",
      "El número de rondas debe ser impar: 5\n",
      "Partida: 1/5\n",
      "¿Qué quieres jugar?:  papel\n",
      "Compu juega: Papel\n",
      "-->  EMPATE <--\n",
      "\n",
      "Racha usuario:0/3\n",
      "Racha compu: 0/3\n",
      "\n",
      "Partida: 2/5\n",
      "¿Qué quieres jugar?:  papel\n",
      "Compu juega: Piedra\n",
      "--> GANAS! <--\n",
      "\n",
      "Racha usuario:1/3\n",
      "Racha compu: 0/3\n",
      "\n",
      "Partida: 3/5\n",
      "¿Qué quieres jugar?:  papel\n",
      "Compu juega: Spock\n",
      "--> GANAS! <--\n",
      "\n",
      "Racha usuario:2/3\n",
      "Racha compu: 0/3\n",
      "\n",
      "Partida: 4/5\n",
      "¿Qué quieres jugar?:  papel\n",
      "Compu juega: Papel\n",
      "-->  EMPATE <--\n",
      "\n",
      "Racha usuario:2/3\n",
      "Racha compu: 0/3\n",
      "\n"
     ]
    }
   ],
   "source": [
    "\n",
    "import random\n",
    "\n",
    "opciones = ['piedra', 'papel', 'tijera', 'lagarto', 'spock']\n",
    "\n",
    "def num_rondas ():\n",
    "    num_rondas = int(input('Cúantas rondas quieres jugar?: '))\n",
    "    while num_rondas%2 == 0:\n",
    "        num_rondas = int(input('El número de rondas debe ser impar: '))\n",
    "        \n",
    "    return num_rondas\n",
    "\n",
    "def Jugada_usuario ():\n",
    "    '''Pide una jugada al usuario, sigue pidiendo hasta que está dentro de 'opciones'. devueve la jugada'''\n",
    "\n",
    "    jugada = input('¿Qué quieres jugar?:  ').lower()\n",
    "    \n",
    "    while jugada not in opciones:\n",
    "        jugada = input('Introduce una opción válida:  ')\n",
    "    return jugada\n",
    "\n",
    "def Jugada_cpu():\n",
    "    'saca un elemento aleatorio de la lista opción'\n",
    "    return random.choice(opciones)\n",
    "\n",
    "def Resultado(usuario, compu):\n",
    "    '''Si gana el usuario: 1  //  si gana la compu: 2  // si empate: 0'''\n",
    "    if usuario == 'tijera':\n",
    "        if compu == 'piedra' or compu == 'spock':\n",
    "            return 2\n",
    "        elif compu == 'papel' or compu == 'lagarto':\n",
    "            return 1\n",
    "        else:\n",
    "            return 0\n",
    "\n",
    "    elif usuario == 'piedra':\n",
    "        if compu == 'papel' or compu == 'spock':\n",
    "            return 2\n",
    "        elif compu == 'tijera' or compu == 'lagarto':\n",
    "            return 1\n",
    "        else:\n",
    "            return 0\n",
    "\n",
    "    elif usuario == 'papel':\n",
    "        if compu == 'tijera' or compu == 'lagarto':\n",
    "            return 2\n",
    "        elif compu == 'piedra' or compu == 'spock':\n",
    "            return 1\n",
    "        else:\n",
    "            return 0\n",
    "\n",
    "    elif usuario == 'lagarto':\n",
    "        if compu == 'tijera' or compu == 'piedra':\n",
    "            return 2\n",
    "        elif compu == 'papel' or compu == 'spock':\n",
    "            return 1\n",
    "        else:\n",
    "            return 0\n",
    "\n",
    "    elif usuario == 'spock':\n",
    "        if compu == 'lagarto' or compu == 'papel':\n",
    "            return 2\n",
    "        elif compu == 'tijera' or compu == 'piedra':\n",
    "            return 1\n",
    "        else:\n",
    "            return 0\n",
    "\n",
    "def Imprimir_resultado (resultado):\n",
    "    if resultado == 1:\n",
    "        print (('--> ganas! <--').upper())\n",
    "    elif resultado == 2:\n",
    "        print (('--> pierdes <--').upper())\n",
    "    else:\n",
    "        print (('-->  empate <--').upper())\n",
    "\n",
    "ronda = 1\n",
    "puntos_usuario = 0\n",
    "puntos_cpu = 0\n",
    "rondas_max = num_rondas()\n",
    "rondas_ganar = 3\n",
    "\n",
    "while ronda < rondas_max and puntos_cpu < rondas_ganar and puntos_usuario < rondas_ganar:\n",
    "    print('Partida: ' + str(ronda) + '/' + str(rondas_max))\n",
    "    usuario = Jugada_usuario()\n",
    "    cpu = Jugada_cpu()\n",
    "    print('Compu juega: ' + cpu.title())\n",
    "    resultado = Resultado(usuario,cpu)\n",
    "    Imprimir_resultado (resultado)\n",
    "\n",
    "    if resultado == 1:\n",
    "        puntos_usuario +=1\n",
    "        puntos_cpu = 0\n",
    "        \n",
    "    elif resultado == 2:\n",
    "        puntos_cpu +=1\n",
    "        puntos_usuario = 0\n",
    "\n",
    "    print('\\nRacha usuario:' + str(puntos_usuario)+'/3')\n",
    "    print('Racha compu: ' + str(puntos_cpu)+'/3\\n')\n",
    "    ronda += 1\n"
   ]
  }
 ],
 "metadata": {
  "kernelspec": {
   "display_name": "Python 3",
   "language": "python",
   "name": "python3"
  },
  "language_info": {
   "codemirror_mode": {
    "name": "ipython",
    "version": 3
   },
   "file_extension": ".py",
   "mimetype": "text/x-python",
   "name": "python",
   "nbconvert_exporter": "python",
   "pygments_lexer": "ipython3",
   "version": "3.7.6"
  }
 },
 "nbformat": 4,
 "nbformat_minor": 2
}
