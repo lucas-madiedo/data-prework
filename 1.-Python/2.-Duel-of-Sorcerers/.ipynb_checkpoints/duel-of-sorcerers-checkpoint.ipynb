{
 "cells": [
  {
   "cell_type": "markdown",
   "metadata": {},
   "source": [
    "<img src=\"https://bit.ly/2VnXWr2\" width=\"100\" align=\"left\">"
   ]
  },
  {
   "cell_type": "markdown",
   "metadata": {},
   "source": [
    "# Duel of Sorcerers\n",
    "You are witnessing an epic battle between two powerful sorcerers: Gandalf and Saruman. Each sorcerer has 10 spells of variable power in their mind and they are going to throw them one after the other. The winner of the duel will be the one who wins more of those clashes between spells. Spells are represented as a list of 10 integers whose value equals the power of the spell.\n",
    "```\n",
    "gandalf = [10, 11, 13, 30, 22, 11, 10, 33, 22, 22]\n",
    "saruman = [23, 66, 12, 43, 12, 10, 44, 23, 12, 17]\n",
    "```\n",
    "For example:\n",
    "- The first clash is won by Saruman: 10 against 23.\n",
    "- The second clash is won by Saruman: 11 against 66.\n",
    "- ...\n",
    "\n",
    "You will create two variables, one for each sorcerer, where the sum of clashes won will be stored. Depending on which variable is greater at the end of the duel, you will show one of the following three results on the screen:\n",
    "* Gandalf wins\n",
    "* Saruman wins\n",
    "* Tie\n",
    "\n",
    "<img src=\"images/content_lightning_bolt_big.jpg\" width=\"400\">"
   ]
  },
  {
   "cell_type": "markdown",
   "metadata": {},
   "source": [
    "## Tools\n",
    "You don't necessarily need to use all the tools. Maybe you opt to use some of them or completely different ones, they are given to help you shape the exercise. Programming exercises can be solved in many different ways.\n",
    "\n",
    "1. Data structures: **lists, dictionaries**\n",
    "2. Loop: **for loop**\n",
    "3. Conditional statements: **if-elif-else**\n",
    "4. Functions: **range(), len(), print()**\n",
    "\n",
    "## Tasks\n",
    "\n",
    "#### 1. Create two variables called `gandalf` and `saruman` and assign them the spell power lists. Create a variable called `spells` to store the number of spells that the sorcerers cast. "
   ]
  },
  {
   "cell_type": "code",
   "execution_count": 2,
   "metadata": {},
   "outputs": [],
   "source": [
    "gandalf = [10, 11, 13, 30, 22, 11, 10, 33, 22, 22]\n",
    "saruman = [23, 66, 12, 43, 12, 10, 44, 23, 12, 17]\n",
    "spells = len(gandalf)"
   ]
  },
  {
   "cell_type": "markdown",
   "metadata": {},
   "source": [
    "#### 2. Create two variables called`gandalf_wins` and `saruman_wins`. Set both of them to 0. \n",
    "You will use these variables to count the number of clashes each sorcerer wins. "
   ]
  },
  {
   "cell_type": "code",
   "execution_count": 3,
   "metadata": {},
   "outputs": [],
   "source": [
    "gandalf_wins = 0\n",
    "saruman_wins = 0"
   ]
  },
  {
   "cell_type": "markdown",
   "metadata": {},
   "source": [
    "#### 3. Using the lists of spells of both sorcerers, update variables `gandalf_wins` and `saruman_wins` to count the number of times each sorcerer wins a clash. "
   ]
  },
  {
   "cell_type": "code",
   "execution_count": 4,
   "metadata": {},
   "outputs": [],
   "source": [
    "for spell in range(spells):\n",
    "    if gandalf[spell] > saruman[spell]:\n",
    "        gandalf_wins += 1\n",
    "\n",
    "    elif gandalf[spell] < saruman[spell]: \n",
    "        saruman_wins += 1\n",
    "    else:\n",
    "        continue\n",
    "        "
   ]
  },
  {
   "cell_type": "markdown",
   "metadata": {},
   "source": [
    "#### 4. Who won the battle?\n",
    "Print `Gandalf wins`, `Saruman wins` or `Tie` depending on the result. "
   ]
  },
  {
   "cell_type": "code",
   "execution_count": 5,
   "metadata": {},
   "outputs": [
    {
     "name": "stdout",
     "output_type": "stream",
     "text": [
      "Gandalf won this battle\n"
     ]
    }
   ],
   "source": [
    "if gandalf_wins > saruman_wins:\n",
    "    print('Gandalf won this battle')\n",
    "elif gandalf_wins < saruman_wins:\n",
    "    print('Saruman won this battle')\n",
    "else:\n",
    "    print('This battle ended with a tie')"
   ]
  },
  {
   "cell_type": "markdown",
   "metadata": {},
   "source": [
    "## Bonus\n",
    "\n",
    "In this bonus challenge, you'll need to check the winner of the battle but this time, a sorcerer wins if he succeeds in winning 3 spell clashes in a row.\n",
    "\n",
    "Also, the spells now have a name and there is a dictionary that associates that name to a power.\n",
    "\n",
    "```\n",
    "POWER = {\n",
    "    'Fireball': 50, \n",
    "    'Lightning bolt': 40, \n",
    "    'Magic arrow': 10, \n",
    "    'Black Tentacles': 25, \n",
    "    'Contagion': 45\n",
    "}\n",
    "\n",
    "gandalf = ['Fireball', 'Lightning bolt', 'Lightning bolt', 'Magic arrow', 'Fireball', \n",
    "           'Magic arrow', 'Lightning bolt', 'Fireball', 'Fireball', 'Fireball']\n",
    "saruman = ['Contagion', 'Contagion', 'Black Tentacles', 'Fireball', 'Black Tentacles', \n",
    "           'Lightning bolt', 'Magic arrow', 'Contagion', 'Magic arrow', 'Magic arrow']\n",
    "```\n",
    "\n",
    "#### 1. Create variables `POWER`, `gandalf` and `saruman` as seen above. Create a variable called `spells` to store the number of spells that the sorcerers cast. "
   ]
  },
  {
   "cell_type": "code",
   "execution_count": 6,
   "metadata": {},
   "outputs": [],
   "source": [
    "power = {\n",
    "    'Fireball': 50, \n",
    "    'Lightning bolt': 40, \n",
    "    'Magic arrow': 10, \n",
    "    'Black Tentacles': 25, \n",
    "    'Contagion': 45\n",
    "    }\n",
    "gandalf = ['Fireball', 'Lightning bolt', 'Lightning bolt', 'Magic arrow', 'Fireball', \n",
    "           'Magic arrow', 'Lightning bolt', 'Fireball', 'Fireball', 'Fireball']\n",
    "saruman = ['Contagion', 'Contagion', 'Black Tentacles', 'Fireball', 'Black Tentacles', \n",
    "           'Lightning bolt', 'Magic arrow', 'Contagion', 'Magic arrow', 'Magic arrow']\n",
    "\n",
    "spells = len(gandalf)"
   ]
  },
  {
   "cell_type": "markdown",
   "metadata": {},
   "source": [
    "#### 2. Create two variables called `gandalf_wins` and `saruman_wins`. Set both of them to 0. "
   ]
  },
  {
   "cell_type": "code",
   "execution_count": 7,
   "metadata": {},
   "outputs": [],
   "source": [
    "gandalf_wins = 0\n",
    "saruman_wins = 0"
   ]
  },
  {
   "cell_type": "markdown",
   "metadata": {},
   "source": [
    "#### 3. Create two variables called `gandalf_power` and `saruman_power` to store the list of spell powers of each sorcerer."
   ]
  },
  {
   "cell_type": "code",
   "execution_count": 8,
   "metadata": {},
   "outputs": [],
   "source": [
    "gandalf_power = 0\n",
    "saruman_power = 0\n",
    "gandalf_racha = 0\n",
    "saruman_racha = 0"
   ]
  },
  {
   "cell_type": "markdown",
   "metadata": {},
   "source": [
    "#### 4. The battle starts! Using the variables you've created above, code the execution of spell clashes. Remember that a sorcerer wins if he succeeds in winning 3 spell clashes in a row. \n",
    "If a clash ends up in a tie, the counter of wins in a row is not restarted to 0. Remember to print who is the winner of the battle. "
   ]
  },
  {
   "cell_type": "code",
   "execution_count": 9,
   "metadata": {},
   "outputs": [
    {
     "name": "stdout",
     "output_type": "stream",
     "text": [
      "\n",
      "Round: 0:\n",
      "Gandalf gana. lleva una racha de : 1\n",
      "Sigue el combate!\n",
      "\n",
      "Round: 1:\n",
      "Saruman gana. lleva una racha de : 1\n",
      "Sigue el combate!\n",
      "\n",
      "Round: 2:\n",
      "Gandalf gana. lleva una racha de : 1\n",
      "Sigue el combate!\n",
      "\n",
      "Round: 3:\n",
      "Saruman gana. lleva una racha de : 1\n",
      "Sigue el combate!\n",
      "\n",
      "Round: 4:\n",
      "Gandalf gana. lleva una racha de : 1\n",
      "Sigue el combate!\n",
      "\n",
      "Round: 5:\n",
      "Saruman gana. lleva una racha de : 1\n",
      "Sigue el combate!\n",
      "\n",
      "Round: 6:\n",
      "Gandalf gana. lleva una racha de : 1\n",
      "Sigue el combate!\n",
      "\n",
      "Round: 7:\n",
      "Gandalf gana. lleva una racha de : 2\n",
      "Sigue el combate!\n",
      "\n",
      "Round: 8:\n",
      "Gandalf gana. lleva una racha de : 3\n",
      "Gandalf ha ganado el combate!!\n"
     ]
    }
   ],
   "source": [
    "#definimos los turnos\n",
    "\n",
    "for spell in range (spells):\n",
    "    \n",
    "    #sacamos los dos hechizos del turno\n",
    "    gandalf_spell = gandalf[spell]\n",
    "    saruman_spell = saruman [spell]\n",
    "    \n",
    "    #buscamos la puntuación en power\n",
    "    gandalf_power = power[gandalf_spell]\n",
    "    saruman_power = power[saruman_spell]\n",
    "    \n",
    "    #Busca ganado de cada mano y almacena victoria en racha\n",
    "    print('\\nRound: ' + str(spell) + ':')\n",
    "    if gandalf_power > saruman_power:\n",
    "        gandalf_wins += 1\n",
    "        gandalf_racha += 1\n",
    "        saruman_racha = 0\n",
    "        print('Gandalf gana. lleva una racha de : ' + str(gandalf_racha))\n",
    "        \n",
    "    elif gandalf_power < saruman_power:\n",
    "        saruman_wins += 1\n",
    "        gandalf_racha = 0\n",
    "        saruman_racha += 1\n",
    "        print('Saruman gana. lleva una racha de : ' + str(saruman_racha))\n",
    "        \n",
    "    #Si una de las rachas llega a 3, declara ganador y cierra el combate.   \n",
    "    if gandalf_racha == 3:\n",
    "        print('Gandalf ha ganado el combate!!')\n",
    "        break\n",
    "    \n",
    "    elif saruman_racha == 3:\n",
    "        print('Saruman ha ganado el combate!!')\n",
    "        break\n",
    "    else:\n",
    "        print('Sigue el combate!')\n",
    "    \n",
    "    \n",
    "    \n",
    "\n",
    "\n"
   ]
  },
  {
   "cell_type": "markdown",
   "metadata": {},
   "source": [
    "#### 5. Find the average spell power of Gandalf and Saruman. "
   ]
  },
  {
   "cell_type": "code",
   "execution_count": 10,
   "metadata": {},
   "outputs": [
    {
     "name": "stdout",
     "output_type": "stream",
     "text": [
      "Media Poder Saruman: 30.5\n",
      "Media Poder Gandalf: 39.0\n"
     ]
    }
   ],
   "source": [
    "valores_saruman = []\n",
    "for spell in saruman:\n",
    "    valores_saruman.append(power[spell])\n",
    "media_saruman = sum(valores_saruman) / len(valores_saruman)\n",
    "\n",
    "print('Media Poder Saruman: ' + str(media_saruman))\n",
    "\n",
    "valores_gandalf = []\n",
    "for spell in gandalf:\n",
    "    valores_gandalf.append(power[spell])\n",
    "media_gandalf = sum(valores_gandalf) / len(valores_gandalf)\n",
    "\n",
    "print('Media Poder Gandalf: ' + str(media_gandalf))"
   ]
  },
  {
   "cell_type": "markdown",
   "metadata": {},
   "source": [
    "#### 6. Find the standard deviation of the spell power of Gandalf and Saruman. "
   ]
  },
  {
   "cell_type": "code",
   "execution_count": 13,
   "metadata": {},
   "outputs": [
    {
     "name": "stdout",
     "output_type": "stream",
     "text": [
      "Standard Deviation of the spell power of Gandalf: 15.95\n",
      "Standard Deviation of the spell power of Saruman: 16.41\n"
     ]
    }
   ],
   "source": [
    "from statistics import stdev\n",
    "\n",
    "gandalf_stdev = round(stdev(valores_gandalf),2)\n",
    "saruman_stdev = round(stdev(valores_saruman),2)\n",
    "\n",
    "print('Standard Deviation of the spell power of Gandalf: ' + str(gandalf_stdev))\n",
    "print('Standard Deviation of the spell power of Saruman: ' + str(saruman_stdev))\n"
   ]
  },
  {
   "cell_type": "code",
   "execution_count": null,
   "metadata": {},
   "outputs": [],
   "source": []
  }
 ],
 "metadata": {
  "kernelspec": {
   "display_name": "Python 3",
   "language": "python",
   "name": "python3"
  },
  "language_info": {
   "codemirror_mode": {
    "name": "ipython",
    "version": 3
   },
   "file_extension": ".py",
   "mimetype": "text/x-python",
   "name": "python",
   "nbconvert_exporter": "python",
   "pygments_lexer": "ipython3",
   "version": "3.7.6"
  }
 },
 "nbformat": 4,
 "nbformat_minor": 2
}
