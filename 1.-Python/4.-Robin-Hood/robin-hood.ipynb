{
 "cells": [
  {
   "cell_type": "markdown",
   "metadata": {},
   "source": [
    "<img src=\"https://bit.ly/2VnXWr2\" width=\"100\" align=\"left\"/>"
   ]
  },
  {
   "cell_type": "markdown",
   "metadata": {},
   "source": [
    "# Robin Hood\n",
    "Robin Hood has entered a competition to win the archery contest in Sherwood. With his bow and arrows, he needs to shoot on a target and try to hit as close as possible to the center.\n",
    "\n",
    "![](images/arrows.jpg)\n",
    "\n",
    "## Context\n",
    "In this challenge, the landing position of arrows shot by archers in the competition will be represented using 2-dimensional coordinates. \n",
    "\n",
    "In the 2-dimensional space, a point can be defined by a pair of values that correspond to the horizontal coordinate (x) and the vertical coordinate (y). For example, in our case, an arrow that hits the center of the archery target will land in position (0, 0) on the coordinate axes. \n",
    "\n",
    "The space can be divided into 4 zones (quadrants): Q1, Q2, Q3, Q4. If a point is in Q1, both its x coordinate and y coordinate are positive. Any point with a null x or y coordinate is considered to not belong to any quadrant. \n",
    "\n",
    "If you want to know more about the cartesian coordinate system, you can check this [link](https://en.wikipedia.org/wiki/Cartesian_coordinate_system). \n",
    "\n",
    "## Tools\n",
    "You don't necessarily need to use all the tools. Maybe you opt to use some of them or completely different ones, they are given to help you shape the exercise. Programming exercises can be solved in many different ways.\n",
    "* Data structures: **lists, sets, tuples**\n",
    "* Conditional statements: **if-elif-else**\n",
    "* Loop: **while/for**\n",
    "* Minimum (optional sorting)\n",
    "\n",
    "## Tasks\n",
    "Robin Hood has hit the following points:"
   ]
  },
  {
   "cell_type": "code",
   "execution_count": 2,
   "metadata": {},
   "outputs": [],
   "source": [
    "points = [(4, 5), (-0, 2), (4, 7), (1, -3), (3, -2), (4, 5), (3, 2), (5, 7), (-5, 7), (2, 2), (-4, 5), (0, -2),\n",
    "          (-4, 7), (-1, 3), (-3, 2), (-4, -5), (-3, 2), (5, 7), (5, 7), (2, 2), (9, 9), (-8, -9)]"
   ]
  },
  {
   "cell_type": "markdown",
   "metadata": {},
   "source": [
    "#### 1. Robin Hood is famous for hitting an arrow with another arrow. Find the coordinates of the points where an arrow hits another arrow."
   ]
  },
  {
   "cell_type": "code",
   "execution_count": 3,
   "metadata": {},
   "outputs": [
    {
     "name": "stdout",
     "output_type": "stream",
     "text": [
      "Los puntos donde ha impactado más de una vez son:\n",
      "{(4, 5), (5, 7), (-3, 2), (2, 2)}\n"
     ]
    }
   ],
   "source": [
    "duplicados= [tiro for tiro in points if points.count(tiro) >= 2] \n",
    "print('Los puntos donde ha impactado más de una vez son:')\n",
    "print(set(duplicados))\n"
   ]
  },
  {
   "cell_type": "markdown",
   "metadata": {},
   "source": [
    "#### 2. Calculate how many arrows have fallen in each quadrant. \n",
    "**Note**: the arrows that fall in the axis (x=0 or y=0) don't belong to any quadrant."
   ]
  },
  {
   "cell_type": "code",
   "execution_count": 4,
   "metadata": {},
   "outputs": [
    {
     "name": "stdout",
     "output_type": "stream",
     "text": [
      "En el cuadrante 1 hay: 10 flechas.\n",
      "En el cuadrante 2 hay: 6 flechas.\n",
      "En el cuadrante 3 hay: 2 flechas.\n",
      "En el cuadrante 4 hay: 2 flechas.\n",
      "En los ejes han impactado 2 flechas.\n"
     ]
    }
   ],
   "source": [
    "points = [(4, 5), (-0, 2), (4, 7), (1, -3), (3, -2), (4, 5), (3, 2), (5, 7), (-5, 7), (2, 2), (-4, 5), (0, -2),\n",
    "          (-4, 7), (-1, 3), (-3, 2), (-4, -5), (-3, 2), (5, 7), (5, 7), (2, 2), (9, 9), (-8, -9)]\n",
    "\n",
    "cuadrante_1 = [] #cuadrante 1: + +\n",
    "cuadrante_2 = [] #cuadrante 2: - +\n",
    "cuadrante_3 = [] #cuadrante 3: - -\n",
    "cuadrante_4 = [] #cuadrante 4: + -\n",
    "ejes = [] #uno de los resultados es 0\n",
    "\n",
    "for tiro in points:\n",
    "    if tiro[0]== 0 or tiro[1]==0:\n",
    "        ejes.append(tiro)\n",
    "    else:\n",
    "        #Cuadrante 1\n",
    "        if tiro[0] > 0 and tiro[1] >0:\n",
    "            cuadrante_1.append(tiro)\n",
    "        \n",
    "        #Cuadrante 2\n",
    "        elif tiro[0] < 0 and tiro[1] >0:\n",
    "            cuadrante_2.append(tiro)\n",
    "                \n",
    "        #Cuadrante 3\n",
    "        elif tiro[0] < 0 and tiro[1] <0:\n",
    "            cuadrante_3.append(tiro)\n",
    "        \n",
    "        #Cuadrante 4\n",
    "        else:\n",
    "            cuadrante_4.append(tiro)\n",
    "            \n",
    "print( 'En el cuadrante 1 hay: ' + str(len(cuadrante_1)) + ' flechas.')\n",
    "print( 'En el cuadrante 2 hay: ' + str(len(cuadrante_2)) + ' flechas.')\n",
    "print( 'En el cuadrante 3 hay: ' + str(len(cuadrante_3)) + ' flechas.')\n",
    "print( 'En el cuadrante 4 hay: ' + str(len(cuadrante_4)) + ' flechas.')\n",
    "print( 'En los ejes han impactado ' + str(len(ejes)) + ' flechas.')"
   ]
  },
  {
   "cell_type": "markdown",
   "metadata": {},
   "source": [
    "#### 3. Find the point closest to the center. Calculate its distance to the center. \n",
    "Take into account that there might be more than one point at the minimum distance to the center.\n",
    "\n",
    "**Hint**: Use the Euclidean distance. You can find more information about it [here](https://en.wikipedia.org/wiki/Euclidean_distance).  \n",
    "**Hint**: Defining a function that calculates the distance to the center can help."
   ]
  },
  {
   "cell_type": "code",
   "execution_count": 5,
   "metadata": {},
   "outputs": [
    {
     "name": "stdout",
     "output_type": "stream",
     "text": [
      "El disparo que más se acercó al cero fue: (0, 2)\n"
     ]
    }
   ],
   "source": [
    "import math\n",
    "\n",
    "distancias = []\n",
    "\n",
    "def dist_centro(points):\n",
    "    '''Calcula la distancia de los puntos hasta el centro y añade la distancia en una lista llamada distancias'''\n",
    "    for point in points:\n",
    "        x = point [0]\n",
    "        y = point [1]\n",
    "        distancia = math.sqrt(((x ** 2) + (y **2 ))) \n",
    "        distancias.append(distancia)\n",
    "\n",
    "dist_centro(points)\n",
    "minimo = distancias.index(min(distancias)) #Extrae el index del número menor de la lista de distancias\n",
    "print('El disparo que más se acercó al cero fue: '+ str(points[minimo])) #saca el disparo que coincide con el numero menor de la lista de distancias\n",
    "\n",
    "    "
   ]
  },
  {
   "cell_type": "markdown",
   "metadata": {},
   "source": [
    "#### 4. If the archery target has a radius of 9, calculate the number of arrows that won't hit the target. \n",
    "**Hint**: Use the function created in step 3. "
   ]
  },
  {
   "cell_type": "code",
   "execution_count": 6,
   "metadata": {},
   "outputs": [
    {
     "name": "stdout",
     "output_type": "stream",
     "text": [
      "Hay 2 disparos cuya distancia al 0,0 es mayor a 9\n",
      "(9, 9) (-8, -9)\n"
     ]
    }
   ],
   "source": [
    "distancias = []\n",
    "\n",
    "def dist_centro(points):\n",
    "    '''Calcula la distancia de los puntos hasta el centro y añade la distancia en una lista llamada distancias'''\n",
    "    for point in points:\n",
    "        x = point [0]\n",
    "        y = point [1]\n",
    "        distancia = math.sqrt(((x ** 2) + (y **2 ))) \n",
    "        distancias.append(distancia)\n",
    "dist_centro(points)\n",
    "\n",
    "#Creamos una lista con aquellos mayores a 9\n",
    "fallidos = [tiro for tiro in distancias if tiro > 9]\n",
    "\n",
    "#Declaramos cuantos tiros hay mayores a 9\n",
    "print('Hay ' + str(len(fallidos)) + ' disparos cuya distancia al 0,0 es mayor a 9')\n",
    "\n",
    "\n",
    "#buscamos los mayores a 9 dentro de los disparos\n",
    "index_1 = distancias.index(fallidos[0])\n",
    "index_2 = distancias.index(fallidos[1])\n",
    "\n",
    "#Imprimimos los disparos cuya distancia es mayor a 9\n",
    "print(points[index_1],points[index_2])"
   ]
  }
 ],
 "metadata": {
  "kernelspec": {
   "display_name": "Python 3",
   "language": "python",
   "name": "python3"
  },
  "language_info": {
   "codemirror_mode": {
    "name": "ipython",
    "version": 3
   },
   "file_extension": ".py",
   "mimetype": "text/x-python",
   "name": "python",
   "nbconvert_exporter": "python",
   "pygments_lexer": "ipython3",
   "version": "3.7.6"
  }
 },
 "nbformat": 4,
 "nbformat_minor": 2
}
