{
 "cells": [
  {
   "cell_type": "markdown",
   "metadata": {},
   "source": [
    "<img src=\"https://bit.ly/2VnXWr2\" width=\"100\" align=\"left\">"
   ]
  },
  {
   "cell_type": "markdown",
   "metadata": {},
   "source": [
    "# Temperature Sensor\n",
    "\n",
    "There is a temperature sensor in the processor of your company's server. The company wants to analyze the data provided by the sensor to decide if they should change the cooling system for a better one. As changing the cooling system is expensive and you are an excellent data analyst, you can't make a decision without basis.\n",
    "\n",
    "## Tools\n",
    "You don't necessarily need to use all the tools. Maybe you opt to use some of them or completely different ones, they are given to help you shape the exercise. Programming exercises can be solved in many different ways.\n",
    "1. Data structures: **lists**\n",
    "2. Loops: **list comprehension**\n",
    "3. Functions: **min, max, print, len**\n",
    "4. Conditional statements: **if-elif-else**\n",
    "\n",
    "## Tasks\n",
    "The temperatures measured throughout the 24 hours of a day are:"
   ]
  },
  {
   "cell_type": "code",
   "execution_count": 28,
   "metadata": {},
   "outputs": [],
   "source": [
    "temperatures_C = [33, 66, 65, 0, 59, 60, 62, 64, 70, 76, 80, 81, 80, 83, 90, 79, 61, 53, 50, 49, 53, 48, 45, 39]"
   ]
  },
  {
   "cell_type": "markdown",
   "metadata": {},
   "source": [
    "The first element of the list is the temperature at 12am, the second element is the temperature at 1am, and so on. \n",
    "\n",
    "The company has decided that if one of the following events occurs, then the cooling system needs to be replaced for a new one to avoid damaging the processor.\n",
    "* More than 4 temperatures are greater than or equal to 70ºC.\n",
    "* Any temperature is above 80ºC.\n",
    "* The average temperature exceeds 65ºC.\n",
    "\n",
    "Follow the steps so that you can make the decision.\n",
    "\n",
    "#### 1. Find the minimum temperature of the day and store it in a variable."
   ]
  },
  {
   "cell_type": "code",
   "execution_count": 29,
   "metadata": {},
   "outputs": [],
   "source": [
    "min_temp_C = min(temperatures_C)"
   ]
  },
  {
   "cell_type": "markdown",
   "metadata": {},
   "source": [
    "#### 2. Find the maximum temperature of the day and store it in a variable."
   ]
  },
  {
   "cell_type": "code",
   "execution_count": 30,
   "metadata": {},
   "outputs": [],
   "source": [
    "max_temp_C = max(temperatures_C)"
   ]
  },
  {
   "cell_type": "markdown",
   "metadata": {},
   "source": [
    "#### 3. Create a list with the temperatures that are greater than or equal to 70ºC. Store it in a variable."
   ]
  },
  {
   "cell_type": "code",
   "execution_count": 31,
   "metadata": {},
   "outputs": [],
   "source": [
    "mas_70 =[temp for temp in temperatures_C if temp >= 70]"
   ]
  },
  {
   "cell_type": "markdown",
   "metadata": {},
   "source": [
    "#### 4. Find the average temperature of the day and store it in a variable."
   ]
  },
  {
   "cell_type": "code",
   "execution_count": 32,
   "metadata": {},
   "outputs": [],
   "source": [
    "average_temp_C = sum(temperatures_C)/len(temperatures_C)"
   ]
  },
  {
   "cell_type": "markdown",
   "metadata": {},
   "source": [
    "#### 5. Imagine that there was a sensor failure at 3am and the data for that specific hour was not recorded. How would you estimate the missing value? Replace the current value of the list at 3am for an estimation. "
   ]
  },
  {
   "cell_type": "code",
   "execution_count": 33,
   "metadata": {},
   "outputs": [
    {
     "name": "stdout",
     "output_type": "stream",
     "text": [
      "[33, 66, 65, 0, 59, 60, 62, 64, 70, 76, 80, 81, 80, 83, 90, 84, 79, 61, 53, 50, 49, 53, 48, 45, 39]\n"
     ]
    }
   ],
   "source": [
    "temp_3am = round((temperatures_C [14] + temperatures_C[15])/2)\n",
    "temperatures_C.insert(15,temp_3am)\n",
    "print(temperatures_C)"
   ]
  },
  {
   "cell_type": "markdown",
   "metadata": {},
   "source": [
    "#### 6. Bonus: the maintenance staff is from the United States and does not understand the international metric system. Help them by converting the temperatures from Celsius to Fahrenheit.\n",
    "To know more about temperature conversion check this [link](https://en.wikipedia.org/wiki/Conversion_of_units_of_temperature).\n",
    "\n",
    "**Formula**: \n",
    "\n",
    "$F = 1.8 * C + 32$"
   ]
  },
  {
   "cell_type": "code",
   "execution_count": 34,
   "metadata": {},
   "outputs": [],
   "source": [
    "temperatures_F =[round(((1.8*temp)+32),1) for temp in temperatures_C]"
   ]
  },
  {
   "cell_type": "markdown",
   "metadata": {},
   "source": [
    "#### 7. Make a decision!\n",
    "Now it's time to make a decision taking into account what you have seen until now. \n",
    "\n",
    "Remember that if one of the following events occurs, then the cooling system needs to be replaced for a new one to avoid damaging the processor.\n",
    "* More than 4 temperatures are greater than or equal to 70ºC.\n",
    "* Any temperature is above 80ºC.\n",
    "* The average temperature exceeds 65ºC.\n",
    "\n",
    "#### To make your decision, check if any of the three conditions above is met. You might need to use some of the variables you created in steps 1 to 6. Print a message to show if the cooling system needs to be changed or not."
   ]
  },
  {
   "cell_type": "code",
   "execution_count": 35,
   "metadata": {},
   "outputs": [
    {
     "name": "stdout",
     "output_type": "stream",
     "text": [
      "Temp Maxima: 90 // Temperatura Media: 60.25 // Num temps mayores a 70: 8\n",
      "It needs to be changed\n"
     ]
    }
   ],
   "source": [
    "print('Temp Maxima: '+ str(max(temperatures_C)), '// Temperatura Media: ' + str(average_temp_C), '// Num temps mayores a 70: ' + str(len(mas_70)))\n",
    "\n",
    "if max(temperatures_C)>80 or average_temp_C > 65 or len(mas_70)>4:\n",
    "    print('It needs to be changed')\n",
    "else:\n",
    "    print('Not need to be changed')"
   ]
  },
  {
   "cell_type": "markdown",
   "metadata": {},
   "source": [
    "## Bonus\n",
    "\n",
    "The company has decided that the decision you made is not valid. They want you to analyze the data again but this time, the conditions that need to be met in order to change the cooling system are different.\n",
    "\n",
    "This time, if one of the following events occurs, then the cooling system needs to be replaced:\n",
    "* The temperature is greater than 70ºC during more than 4 consecutive hours.\n",
    "* Any temperature is above 80ºC.\n",
    "* The average temperature exceeds 65ºC.\n",
    "\n",
    "Follow the steps so that you can make the decision.\n",
    "\n",
    "#### 1. Create a list with the hours where the temperature is greater than 70ºC. Store it in a variable."
   ]
  },
  {
   "cell_type": "code",
   "execution_count": 36,
   "metadata": {},
   "outputs": [
    {
     "name": "stdout",
     "output_type": "stream",
     "text": [
      "[76, 80, 81, 80, 83, 90, 84, 79]\n"
     ]
    }
   ],
   "source": [
    "temperatures_C = [33, 66, 65, 0, 59, 60, 62, 64, 70, 76, 80, 81, 80, 83, 90, 84, 79, 61, 53, 50, 49, 53, 48, 45, 39]\n",
    "\n",
    "greater_70 = [ temp for temp in temperatures_C if temp > 70]\n",
    "print(greater_70)"
   ]
  },
  {
   "cell_type": "markdown",
   "metadata": {},
   "source": [
    "#### 2. Check if the list you created in step 1 has more than 4 consecutive hours. "
   ]
  },
  {
   "cell_type": "code",
   "execution_count": 45,
   "metadata": {},
   "outputs": [
    {
     "name": "stdout",
     "output_type": "stream",
     "text": [
      "[9, 10, 11, 10, 13, 14, 15, 16]\n",
      "Si, hay más de 4 horas consecutivas con más de 70ºC.\n"
     ]
    }
   ],
   "source": [
    "'''\n",
    "Sacamos una lista de la ubicación de los valores mayores a 70ºC dentro del registo de temperaturas.\n",
    "Esto os dara las posición (horas) en las que se superaron los 70\n",
    "'''\n",
    "ubicacion_mas_70 = []\n",
    "for temp in greater_70:\n",
    "    ubicacion_mas_70.append(temperatures_C.index(temp))\n",
    "                        # ERROR DOS TEMPERATURAS 80\n",
    "                        #pone el idex de la primera y rompe la secuencia (pone 10 de nuevo en lugar de 12.\n",
    "                        #[9, 10, 11, 10, 13, 14, 15, 16]\n",
    "\n",
    "\n",
    "'''\n",
    "Vemos si la posición de esas horas son numeros consecutivos o no\n",
    "Cada vez que un numero es igual al anterior se suma 1 a la varible 'cuenta'. Si no lo es, la variable vuelve a 1\n",
    "Si esta variable llega a 4, quiere decir que hay 4 numeros iguales consecutios.\n",
    "Por tanto hay que cambiar el generador.\n",
    "'''\n",
    "cuenta = 0\n",
    "hora_anterior = 0\n",
    "numero_consecutivos = 4\n",
    "consecutivas = []\n",
    "for i in ubicacion_mas_70:\n",
    "    if i == hora_anterior+1:\n",
    "        cuenta += 1\n",
    "\n",
    "    else:\n",
    "        cuenta = 1\n",
    "        \n",
    "    consecutivas.append(cuenta)\n",
    "    hora_anterior = i\n",
    "\n",
    "if cuenta >= numero_consecutivos:\n",
    "    print(f'Si, hay más de {numero_consecutivos} horas consecutivas con más de 70ºC.')\n",
    "    consec_rule = True\n",
    "else:\n",
    "    print(f'No, solo hay {max(consecutivas)} horas consecutivas con más de 70ºC.')\n",
    "    consec_rule = False"
   ]
  },
  {
   "cell_type": "markdown",
   "metadata": {},
   "source": [
    "#### 3. Make the decision!\n",
    "To make your decision, check if any of the three conditions is met. Print a message to show if the cooling system needs to be changed or not."
   ]
  },
  {
   "cell_type": "code",
   "execution_count": 56,
   "metadata": {},
   "outputs": [
    {
     "name": "stdout",
     "output_type": "stream",
     "text": [
      "Las temperaturas llegan a los 90ºC\n",
      "La temperatura media es de 60.25º \n",
      "Más de 4 horas seguidas con más de 70ºC: True\n",
      "\n",
      "The cooling system needs to be changed\n"
     ]
    }
   ],
   "source": [
    "if max(temperatures_C)>=80 or average_temp_C > 65 or consec_rule:\n",
    "    print(f'Las temperaturas llegan a los {max(temperatures_C)}ºC\\nLa temperatura media es de {average_temp_C}º \\nMás de 4 horas seguidas con más de 70ºC: {consec_rule}')\n",
    "    print('\\nThe cooling system needs to be changed')\n",
    "else:\n",
    "    print('\\nThe cooling system doesn\\'t need to be changed')"
   ]
  },
  {
   "cell_type": "markdown",
   "metadata": {},
   "source": [
    "#### 4. Find the average value of the temperature lists (ºC and ºF). What is the relation between both average values?"
   ]
  },
  {
   "cell_type": "code",
   "execution_count": null,
   "metadata": {},
   "outputs": [],
   "source": [
    "avg_F = round(sum(temperatures_F)/len(temperatures_F),2)\n",
    "avg_C = round(sum(temperatures_C)/len(temperatures_C),2)\n",
    "\n",
    "print('media Fahrenheit:' + str(avg_F))\n",
    "print('media Celsius: ' + str(avg_C))\n",
    "\n",
    "      rel = round(avg_F/avg_C,2)\n",
    "\n",
    "print('Un grado celsius equivale a ' + str(rel) + ' grados Fahrenheit')\n"
   ]
  },
  {
   "cell_type": "markdown",
   "metadata": {},
   "source": [
    "#### 5. Find the standard deviation of the temperature lists (ºC and ºF). What is the relation between both standard deviations?"
   ]
  },
  {
   "cell_type": "code",
   "execution_count": null,
   "metadata": {},
   "outputs": [],
   "source": [
    "from statistics import stdev\n",
    "\n",
    "stdev_F = round(stdev(temperatures_F),2)\n",
    "stdev_C = round(stdev(temperatures_C),2)\n",
    "\n",
    "print('La desviación típica de los datos en grados Fahrenheit es de: ' + str(stdev_F))\n",
    "print('La desviación típica de los datos en grados Celsius es de: ' + str(stdev_C))\n",
    "\n",
    "rel_stdev = round(stdev_F/stdev_C,2)\n",
    "print('La relacion entre la desviación típica de los grados Celsius y la de Fahrenheit es de  ' + str(rel_stdev))\n"
   ]
  },
  {
   "cell_type": "code",
   "execution_count": null,
   "metadata": {},
   "outputs": [],
   "source": []
  }
 ],
 "metadata": {
  "kernelspec": {
   "display_name": "Python 3",
   "language": "python",
   "name": "python3"
  },
  "language_info": {
   "codemirror_mode": {
    "name": "ipython",
    "version": 3
   },
   "file_extension": ".py",
   "mimetype": "text/x-python",
   "name": "python",
   "nbconvert_exporter": "python",
   "pygments_lexer": "ipython3",
   "version": "3.7.6"
  }
 },
 "nbformat": 4,
 "nbformat_minor": 2
}
