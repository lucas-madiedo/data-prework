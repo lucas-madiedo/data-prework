{
 "cells": [
  {
   "cell_type": "markdown",
   "metadata": {},
   "source": [
    "<img src=\"https://bit.ly/2VnXWr2\" width=\"100\" align=\"left\">"
   ]
  },
  {
   "cell_type": "markdown",
   "metadata": {},
   "source": [
    "# The Snail and the Well\n",
    "\n",
    "A snail falls at the bottom of a 125 cm well. Each day the snail rises 30 cm. But at night, while sleeping, slides 20 cm because the walls are wet. How many days does it take for the snail to escape the well?\n",
    "\n",
    "**Hint**: The snail gets out of the well when it surpasses the 125cm of height.\n",
    "\n",
    "## Tools\n",
    "\n",
    "1. Loop: **while**\n",
    "2. Conditional statements: **if-else**\n",
    "3. Function: **print()**\n",
    "\n",
    "## Tasks\n",
    "\n",
    "#### 1. Assign the challenge data to variables with representative names: `well_height`, `daily_distance`, `nightly_distance` and `snail_position`."
   ]
  },
  {
   "cell_type": "code",
   "execution_count": 91,
   "metadata": {},
   "outputs": [],
   "source": [
    "snail_position = 0\n",
    "daily_distance = 30\n",
    "nightly_distance = 20\n",
    "well_height = 0\n",
    "max_height = 0\n",
    "\n",
    "\n"
   ]
  },
  {
   "cell_type": "markdown",
   "metadata": {},
   "source": [
    "#### 2. Create a variable `days` to keep count of the days that pass until the snail escapes the well. "
   ]
  },
  {
   "cell_type": "code",
   "execution_count": 92,
   "metadata": {},
   "outputs": [],
   "source": [
    "days =  0"
   ]
  },
  {
   "cell_type": "markdown",
   "metadata": {},
   "source": [
    "#### 3. Find the solution to the challenge using the variables defined above. "
   ]
  },
  {
   "cell_type": "code",
   "execution_count": 93,
   "metadata": {},
   "outputs": [
    {
     "name": "stdout",
     "output_type": "stream",
     "text": [
      "El dia 1 alcanza los 30cm de altura pero por la noche retrocede hasta los 10\n",
      "El dia 2 alcanza los 40cm de altura pero por la noche retrocede hasta los 20\n",
      "El dia 3 alcanza los 50cm de altura pero por la noche retrocede hasta los 30\n",
      "El dia 4 alcanza los 60cm de altura pero por la noche retrocede hasta los 40\n",
      "El dia 5 alcanza los 70cm de altura pero por la noche retrocede hasta los 50\n",
      "El dia 6 alcanza los 80cm de altura pero por la noche retrocede hasta los 60\n",
      "El dia 7 alcanza los 90cm de altura pero por la noche retrocede hasta los 70\n",
      "El dia 8 alcanza los 100cm de altura pero por la noche retrocede hasta los 80\n",
      "El dia 9 alcanza los 110cm de altura pero por la noche retrocede hasta los 90\n",
      "El dia 10 alcanza los 120cm de altura pero por la noche retrocede hasta los 100\n",
      "\n",
      "El dia 11 supera los 125 cm y sale del pozo\n"
     ]
    }
   ],
   "source": [
    "while max_height < 125:\n",
    "    well_height = (daily_distance - nightly_distance)\n",
    "    max_height = snail_position + daily_distance\n",
    "    snail_position += well_height\n",
    "    days += 1\n",
    "    if max_height < 125:\n",
    "        print( 'El dia ' + str(days) + ' alcanza los ' + str(max_height) + \n",
    "              'cm de altura pero por la noche retrocede hasta los ' + str(snail_position))\n",
    "    else:\n",
    "        print( '\\nEl dia ' + str(days) + ' supera los 125 cm y sale del pozo')"
   ]
  },
  {
   "cell_type": "markdown",
   "metadata": {},
   "source": [
    "#### 4. Print the solution."
   ]
  },
  {
   "cell_type": "code",
   "execution_count": 94,
   "metadata": {},
   "outputs": [
    {
     "name": "stdout",
     "output_type": "stream",
     "text": [
      "Ha tardado 11 en salir del pozo\n"
     ]
    }
   ],
   "source": [
    "print ('Ha tardado ' + str(days) + ' en salir del pozo')\n"
   ]
  },
  {
   "cell_type": "markdown",
   "metadata": {},
   "source": [
    "## Bonus\n",
    "The distance traveled by the snail each day is now defined by a list.\n",
    "```\n",
    "advance_cm = [30, 21, 33, 77, 44, 45, 23, 45, 12, 34, 55]\n",
    "```\n",
    "On the first day, the snail rises 30cm but during the night it slides 20cm. On the second day, the snail rises 21cm but during the night it slides 20cm, and so on. \n",
    "\n",
    "#### 1. How many days does it take for the snail to escape the well?\n",
    "Follow the same guidelines as in the previous challenge.\n",
    "\n",
    "**Hint**: Remember that the snail gets out of the well when it surpasses the 125cm of height."
   ]
  },
  {
   "cell_type": "code",
   "execution_count": 95,
   "metadata": {},
   "outputs": [
    {
     "name": "stdout",
     "output_type": "stream",
     "text": [
      "El dia 1 alcanza los 30cm de altura pero por la noche retrocede hasta los 10\n",
      "El dia 2 alcanza los 31cm de altura pero por la noche retrocede hasta los 11\n",
      "El dia 3 alcanza los 44cm de altura pero por la noche retrocede hasta los 24\n",
      "El dia 4 alcanza los 101cm de altura pero por la noche retrocede hasta los 81\n",
      "\n",
      "El dia 5 supera los 125 cm y sale del pozo\n"
     ]
    }
   ],
   "source": [
    "snail_position = 0\n",
    "daily_distance = [30, 21, 33, 77, 44, 45, 23, 45, 12, 34, 55]\n",
    "nightly_distance = 20\n",
    "well_height = 0\n",
    "max_height = 0\n",
    "days = 0\n",
    "\n",
    "while max_height < 125:\n",
    "    well_height = (daily_distance[days] - nightly_distance)\n",
    "    max_height = snail_position + daily_distance[days]\n",
    "    snail_position += well_height\n",
    "    days += 1\n",
    "    if max_height < 125:\n",
    "        print( 'El dia ' + str(days) + ' alcanza los ' + str(max_height) + \n",
    "              'cm de altura pero por la noche retrocede hasta los ' + str(snail_position))\n",
    "    else:\n",
    "        print( '\\nEl dia ' + str(days) + ' supera los 125 cm y sale del pozo')\n",
    "\n",
    "\n"
   ]
  },
  {
   "cell_type": "markdown",
   "metadata": {},
   "source": [
    "#### 2. What is its maximum displacement in one day? And its minimum? Calculate the displacement using only the travel distance of the days used to get out of the well. \n",
    "**Hint**: Remember that displacement means the total distance risen taking into account that the snail slides at night.  "
   ]
  },
  {
   "cell_type": "code",
   "execution_count": 96,
   "metadata": {},
   "outputs": [
    {
     "name": "stdout",
     "output_type": "stream",
     "text": [
      "El desplaziento máximo en el pozo fueron 57cm.\n",
      "El desplaziento mínimo en el pozo fueron 1cm.\n"
     ]
    }
   ],
   "source": [
    "distancias_en_pozo = daily_distance [:days]\n",
    "desplazamiento = [distancia-20 for distancia in distancias_en_pozo]\n",
    "\n",
    "\n",
    "print('El desplaziento máximo en el pozo fueron ' + str(max(desplazamiento)) + 'cm.') \n",
    "print('El desplaziento mínimo en el pozo fueron ' + str(min(desplazamiento)) + 'cm.') \n"
   ]
  },
  {
   "cell_type": "markdown",
   "metadata": {},
   "source": [
    "#### 3. What is its average progress? Take into account the snail slides at night."
   ]
  },
  {
   "cell_type": "code",
   "execution_count": 97,
   "metadata": {},
   "outputs": [
    {
     "name": "stdout",
     "output_type": "stream",
     "text": [
      "La distancia media que recorrió cada día es de 21.0cm\n"
     ]
    }
   ],
   "source": [
    "average = sum(desplazamiento)/len(desplazamiento)\n",
    "print('La distancia media que recorrió cada día es de ' + str(average) + 'cm')"
   ]
  },
  {
   "cell_type": "markdown",
   "metadata": {},
   "source": [
    "#### 4. What is the standard deviation of its displacement? Take into account the snail slides at night."
   ]
  },
  {
   "cell_type": "code",
   "execution_count": null,
   "metadata": {},
   "outputs": [],
   "source": []
  }
 ],
 "metadata": {
  "kernelspec": {
   "display_name": "Python 3",
   "language": "python",
   "name": "python3"
  },
  "language_info": {
   "codemirror_mode": {
    "name": "ipython",
    "version": 3
   },
   "file_extension": ".py",
   "mimetype": "text/x-python",
   "name": "python",
   "nbconvert_exporter": "python",
   "pygments_lexer": "ipython3",
   "version": "3.7.6"
  }
 },
 "nbformat": 4,
 "nbformat_minor": 2
}
