{
 "cells": [
  {
   "cell_type": "markdown",
   "metadata": {},
   "source": [
    "<img src=\"https://bit.ly/2VnXWr2\" width=\"100\" align=\"left\">"
   ]
  },
  {
   "cell_type": "markdown",
   "metadata": {},
   "source": [
    "# The Snail and the Well\n",
    "\n",
    "A snail falls at the bottom of a 125 cm well. Each day the snail rises 30 cm. But at night, while sleeping, slides 20 cm because the walls are wet. How many days does it take for the snail to escape the well?\n",
    "\n",
    "**Hint**: The snail gets out of the well when it surpasses the 125cm of height.\n",
    "\n",
    "## Tools\n",
    "\n",
    "1. Loop: **while**\n",
    "2. Conditional statements: **if-else**\n",
    "3. Function: **print()**\n",
    "\n",
    "## Tasks\n",
    "\n",
    "#### 1. Assign the challenge data to variables with representative names: `well_height`, `daily_distance`, `nightly_distance` and `snail_position`."
   ]
  },
  {
   "cell_type": "code",
   "execution_count": 51,
   "metadata": {},
   "outputs": [],
   "source": [
    "well_height = 125\n",
    "daily_distance = 30\n",
    "nightly_distance = 20\n",
    "snail_position = 0"
   ]
  },
  {
   "cell_type": "markdown",
   "metadata": {},
   "source": [
    "#### 2. Create a variable `days` to keep count of the days that pass until the snail escapes the well. "
   ]
  },
  {
   "cell_type": "code",
   "execution_count": 52,
   "metadata": {},
   "outputs": [],
   "source": [
    "days = 1"
   ]
  },
  {
   "cell_type": "markdown",
   "metadata": {},
   "source": [
    "#### 3. Find the solution to the challenge using the variables defined above. "
   ]
  },
  {
   "cell_type": "code",
   "execution_count": 53,
   "metadata": {},
   "outputs": [
    {
     "name": "stdout",
     "output_type": "stream",
     "text": [
      "Day 1 it starts the day at 0cm and reaches the 30cm\n",
      "Day 2 it starts the day at 10cm and reaches the 40cm\n",
      "Day 3 it starts the day at 20cm and reaches the 50cm\n",
      "Day 4 it starts the day at 30cm and reaches the 60cm\n",
      "Day 5 it starts the day at 40cm and reaches the 70cm\n",
      "Day 6 it starts the day at 50cm and reaches the 80cm\n",
      "Day 7 it starts the day at 60cm and reaches the 90cm\n",
      "Day 8 it starts the day at 70cm and reaches the 100cm\n",
      "Day 9 it starts the day at 80cm and reaches the 110cm\n",
      "Day 10 it starts the day at 90cm and reaches the 120cm\n",
      "Day 11 it starts the day at 100cm and goes over the well\n"
     ]
    }
   ],
   "source": [
    "while (snail_position + daily_distance) < well_height:\n",
    "    print(f'Day {days} it starts the day at {snail_position}cm and reaches the {snail_position + daily_distance}cm')\n",
    "    \n",
    "    snail_position = snail_position + daily_distance - nightly_distance\n",
    "    days += 1\n",
    "    \n",
    "print(f'Day {days} it starts the day at {snail_position}cm and goes over the well')"
   ]
  },
  {
   "cell_type": "markdown",
   "metadata": {},
   "source": [
    "#### 4. Print the solution."
   ]
  },
  {
   "cell_type": "code",
   "execution_count": 54,
   "metadata": {},
   "outputs": [
    {
     "name": "stdout",
     "output_type": "stream",
     "text": [
      "The snail takes 11 days to reach the top of the well\n"
     ]
    }
   ],
   "source": [
    "print(f'The snail takes {days} days to reach the top of the well')"
   ]
  },
  {
   "cell_type": "markdown",
   "metadata": {},
   "source": [
    "## Bonus\n",
    "The distance traveled by the snail each day is now defined by a list.\n",
    "```\n",
    "advance_cm = [30, 21, 33, 77, 44, 45, 23, 45, 12, 34, 55]\n",
    "```\n",
    "On the first day, the snail rises 30cm but during the night it slides 20cm. On the second day, the snail rises 21cm but during the night it slides 20cm, and so on. \n",
    "\n",
    "#### 1. How many days does it take for the snail to escape the well?\n",
    "Follow the same guidelines as in the previous challenge.\n",
    "\n",
    "**Hint**: Remember that the snail gets out of the well when it surpasses the 125cm of height."
   ]
  },
  {
   "cell_type": "code",
   "execution_count": 55,
   "metadata": {},
   "outputs": [
    {
     "name": "stdout",
     "output_type": "stream",
     "text": [
      "Day 1: the snail reachs 30 but, at night it falls back to 10\n",
      "Day 2: the snail reachs 31 but, at night it falls back to 11\n",
      "Day 3: the snail reachs 44 but, at night it falls back to 24\n",
      "Day 4: the snail reachs 101 but, at night it falls back to 81\n",
      "Day 5: the snail reachs 125 but, at night it falls back to 105\n",
      "Day 6: the snail goes over the well\n"
     ]
    }
   ],
   "source": [
    "well_height = 125\n",
    "advance_cm = [30, 21, 33, 77, 44, 45, 23, 45, 12, 34, 55]\n",
    "max_daily = 0\n",
    "nightly_distance = 20\n",
    "snail_position = 0\n",
    "days = 1\n",
    "\n",
    "for advance in advance_cm:\n",
    "    if max_daily < well_height:\n",
    "        max_daily = snail_position + advance\n",
    "        snail_position = snail_position + (advance - nightly_distance)\n",
    "        print(f'Day {days}: the snail reachs {max_daily} but, at night it falls back to {snail_position}')\n",
    "        days += 1\n",
    "\n",
    "print(f'Day {days}: the snail goes over the well')"
   ]
  },
  {
   "cell_type": "markdown",
   "metadata": {},
   "source": [
    "#### 2. What is its maximum displacement in one day? And its minimum? Calculate the displacement using only the travel distance of the days used to get out of the well. \n",
    "**Hint**: Remember that displacement means the total distance risen taking into account that the snail slides at night.  "
   ]
  },
  {
   "cell_type": "code",
   "execution_count": 73,
   "metadata": {},
   "outputs": [
    {
     "name": "stdout",
     "output_type": "stream",
     "text": [
      "The maximun displacement in one day was 57cm\n",
      "The minimun displacement in one day was 1cm\n",
      "The total displacement was 130cm\n"
     ]
    }
   ],
   "source": [
    "distances_in_pit = advance_cm [:days]\n",
    "displacement = [distances - 20 for distances in distances_in_pit]\n",
    "\n",
    "print(f'The maximun displacement in one day was {max(displacement)}cm')\n",
    "print(f'The minimun displacement in one day was {min(displacement)}cm')\n",
    "\n",
    "print(f'The total displacement was {sum(displacement)}cm')\n"
   ]
  },
  {
   "cell_type": "markdown",
   "metadata": {},
   "source": [
    "#### 3. What is its average progress? Take into account the snail slides at night."
   ]
  },
  {
   "cell_type": "code",
   "execution_count": 71,
   "metadata": {},
   "outputs": [
    {
     "name": "stdout",
     "output_type": "stream",
     "text": [
      "The average displacement on each day was 21.67cm\n"
     ]
    }
   ],
   "source": [
    "avg_progress = sum(displacement) / len(displacement)\n",
    "print(f'The average displacement on each day was {round(avg_progress,2)}cm')"
   ]
  },
  {
   "cell_type": "markdown",
   "metadata": {},
   "source": [
    "#### 4. What is the standard deviation of its displacement? Take into account the snail slides at night."
   ]
  },
  {
   "cell_type": "code",
   "execution_count": 72,
   "metadata": {},
   "outputs": [
    {
     "name": "stdout",
     "output_type": "stream",
     "text": [
      "19.51\n"
     ]
    }
   ],
   "source": [
    "from statistics import stdev\n",
    "print(round(stdev(displacement),2))"
   ]
  },
  {
   "cell_type": "code",
   "execution_count": null,
   "metadata": {},
   "outputs": [],
   "source": []
  }
 ],
 "metadata": {
  "kernelspec": {
   "display_name": "Python 3",
   "language": "python",
   "name": "python3"
  },
  "language_info": {
   "codemirror_mode": {
    "name": "ipython",
    "version": 3
   },
   "file_extension": ".py",
   "mimetype": "text/x-python",
   "name": "python",
   "nbconvert_exporter": "python",
   "pygments_lexer": "ipython3",
   "version": "3.7.6"
  }
 },
 "nbformat": 4,
 "nbformat_minor": 2
}
