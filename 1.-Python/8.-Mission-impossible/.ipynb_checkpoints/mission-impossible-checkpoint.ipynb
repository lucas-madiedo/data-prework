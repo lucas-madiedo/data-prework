{
 "cells": [
  {
   "cell_type": "markdown",
   "metadata": {},
   "source": [
    "# Mission Impossible\n",
    "\n",
    "## Intro\n",
    "*Good morning, Mr. Hunt. Your mission, should you choose to accept it, involves the recovery of a stolen item designated \"Chimera.\" You may select any two team members, but it is essential that the third member of your team be Nyah Nordoff-Hall. She is a civilian, and a highly capable professional thief. You have forty-eight hours to recruit Miss Hall and meet me in Seville to receive your assignment. As always, should any member of your team be caught or killed, the Secretary will disavow all knowledge of your actions. And Mr. Hunt, the next time you go on holiday, please be good enough to let us know where you're going. This message will self-destruct in five seconds.*\n",
    "\n",
    "<img src=\"images/mission-impossible.jpg\" width=\"400\">\n",
    "\n",
    "\n",
    "## Problem\n",
    "You are the computer scientist who has to protect valuable national intelligence data. This data is in a computer without internet connection in a room with a tactile floor that detects the pressure. But you've discovered that more than one spy has infiltrated and stolen data, so you have to implement and test the new security system.\n",
    "\n",
    "An ultrasensitive microphone has been installed that records all sound in the room. The list of sounds is stored in a list called dbs. As soon as the door closes it will alert if noise is detected above a threshold of 10 decibels: the alarm will sound and alert the entire building.\n",
    "\n",
    "Each item in the dbs list corresponds to a 5 second interval\n",
    "```\n",
    "dbs = [0, 1, 0, 0, 0, 0, 1, 0, 1, 23, 1, 0, 1, 1, 0, 0, 0, \n",
    "       1, 1, 0, 20, 1, 1, 15, 1, 0, 0, 0, 40, 15, 0, 0]\n",
    "```\n"
   ]
  },
  {
   "cell_type": "code",
   "execution_count": 2,
   "metadata": {},
   "outputs": [],
   "source": [
    "dbs = [0, 1, 0, 0, 0, 0, 1, 0, 1, 23, 1, 0, 1, 1, 0, 0, 0, \n",
    "       1, 1, 0, 20, 1, 1, 15, 1, 0, 0, 0, 40, 15, 0, 0]"
   ]
  },
  {
   "cell_type": "code",
   "execution_count": 3,
   "metadata": {},
   "outputs": [
    {
     "name": "stdout",
     "output_type": "stream",
     "text": [
      "[23, 20, 15, 40, 15]\n"
     ]
    }
   ],
   "source": [
    "mas_10 = [temp for temp in dbs if temp > 10]\n",
    "print(mas_10)\n"
   ]
  },
  {
   "cell_type": "markdown",
   "metadata": {},
   "source": [
    "**Expected output**: \n",
    "```\n",
    "[23, 20, 15, 40, 15]\n",
    "```"
   ]
  },
  {
   "cell_type": "code",
   "execution_count": 4,
   "metadata": {},
   "outputs": [
    {
     "name": "stdout",
     "output_type": "stream",
     "text": [
      "[9, 20, 23, 28, 29]\n"
     ]
    }
   ],
   "source": [
    "# Show the moments (indexs of the list) in which a volume exceeds 10 dBs\n",
    " \n",
    "moment_mas_10 = [time for time, db in enumerate(dbs) if db > 10]\n",
    "print(moment_mas_10)\n"
   ]
  },
  {
   "cell_type": "markdown",
   "metadata": {},
   "source": [
    "**Expected output**: \n",
    "```\n",
    "[9, 20, 23, 28, 29]\n",
    "```"
   ]
  },
  {
   "cell_type": "code",
   "execution_count": 7,
   "metadata": {},
   "outputs": [
    {
     "name": "stdout",
     "output_type": "stream",
     "text": [
      "[(9, 23), (20, 20), (23, 15), (28, 40), (29, 15)]\n"
     ]
    }
   ],
   "source": [
    "# Combine the last two exercises to show the moments when a \n",
    "# volume exceeds 10 dBs. HINT: Use the enumerate function\n",
    "\n",
    "combine = [(time, db) for time, db in enumerate(dbs) if db > 10]\n",
    "print(combine)\n"
   ]
  },
  {
   "cell_type": "markdown",
   "metadata": {},
   "source": [
    "**Expected output**: \n",
    "```\n",
    "[(9, 23), (20, 20), (23, 15), (28, 40), (29, 15)]\n",
    "```"
   ]
  },
  {
   "cell_type": "code",
   "execution_count": 37,
   "metadata": {},
   "outputs": [
    {
     "name": "stdout",
     "output_type": "stream",
     "text": [
      "Alarm!\n"
     ]
    }
   ],
   "source": [
    "for n in list(range(len(combine))):\n",
    "    if n >0:\n",
    "        if combine [n][0] == (combine[n-1][0])+1:\n",
    "            print('Alarm!')\n"
   ]
  },
  {
   "cell_type": "markdown",
   "metadata": {},
   "source": [
    "**Expected output**: \n",
    "```\n",
    "Alarm!\n",
    "```"
   ]
  },
  {
   "cell_type": "markdown",
   "metadata": {},
   "source": [
    "## LINKS\n",
    "\n",
    "* Enumerate: https://www.programiz.com/python-programming/methods/built-in/enumerate\n",
    "* Decibel: https://en.wikipedia.org/wiki/Decibel\n",
    "\n",
    "## Goals\n",
    "\n",
    "1. Treatment of lists\n",
    "2. Use of for loop\n",
    "3. Use of conditional if-elif-else\n",
    "4. Use of the functions range(), len()\n",
    "5. Use of print()\n",
    "6. Use of enumerate()\n",
    "\n",
    "\n",
    "## Bonus\n",
    "Now you have the role of Ethan's hacker. To cheat the security system you are going to execute a computer code on the list dbs and you are going to **reduce** all values higher than 20 in 12 dBs but the ones higher than 30 in 18 dBs. Then confirm the result of your operation by printing the new modified dbs list on the screen."
   ]
  },
  {
   "cell_type": "code",
   "execution_count": 34,
   "metadata": {
    "scrolled": true
   },
   "outputs": [
    {
     "name": "stdout",
     "output_type": "stream",
     "text": [
      "Pre hacking:\n",
      " [0, 1, 0, 0, 0, 0, 1, 0, 1, 23, 1, 0, 1, 1, 0, 0, 0, 1, 1, 0, 20, 1, 1, 15, 1, 0, 0, 0, 40, 15, 0, 0]\n",
      "Post hacking:\n",
      " [0, 1, 0, 0, 0, 0, 1, 0, 1, 11, 1, 0, 1, 1, 0, 0, 0, 1, 1, 0, 20, 1, 1, 15, 1, 0, 0, 0, 22, 15, 0, 0]\n"
     ]
    }
   ],
   "source": [
    "# Your code here\n",
    "\n",
    "dbs = [0, 1, 0, 0, 0, 0, 1, 0, 1, 23, 1, 0, 1, 1, 0, 0, 0, \n",
    "       1, 1, 0, 20, 1, 1, 15, 1, 0, 0, 0, 40, 15, 0, 0]\n",
    "\n",
    "print('Pre hacking:\\n',dbs)\n",
    "\n",
    "for index, db in enumerate(dbs):\n",
    "    if db > 30:\n",
    "        dbs[index]= db-18\n",
    "    elif db > 20:\n",
    "        dbs[index]= db-12\n",
    "        \n",
    "print('Post hacking:\\n',dbs)\n",
    "        "
   ]
  },
  {
   "cell_type": "markdown",
   "metadata": {},
   "source": [
    "**Expected output**: \n",
    "```\n",
    "Pre hacking: \n",
    "[0, 1, 0, 0, 0, 0, 1, 0, 1, 23, 1, 0, 1, 1, 0, 0, 0, 1, 1, 0, 20, 1, 1, 15, 1, 0, 0, 0, 40, 15, 0, 0]\n",
    "Post hacking: \n",
    "[0, 1, 0, 0, 0, 0, 1, 0, 1, 11, 1, 0, 1, 1, 0, 0, 0, 1, 1, 0, 20, 1, 1, 15, 1, 0, 0, 0, 22, 15, 0, 0]\n",
    "```"
   ]
  },
  {
   "cell_type": "code",
   "execution_count": null,
   "metadata": {},
   "outputs": [],
   "source": []
  }
 ],
 "metadata": {
  "kernelspec": {
   "display_name": "Python 3",
   "language": "python",
   "name": "python3"
  },
  "language_info": {
   "codemirror_mode": {
    "name": "ipython",
    "version": 3
   },
   "file_extension": ".py",
   "mimetype": "text/x-python",
   "name": "python",
   "nbconvert_exporter": "python",
   "pygments_lexer": "ipython3",
   "version": "3.7.6"
  }
 },
 "nbformat": 4,
 "nbformat_minor": 2
}
