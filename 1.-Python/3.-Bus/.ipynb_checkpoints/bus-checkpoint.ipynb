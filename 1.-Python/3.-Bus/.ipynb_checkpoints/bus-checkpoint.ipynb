{
 "cells": [
  {
   "cell_type": "markdown",
   "metadata": {},
   "source": [
    "<img src=\"https://bit.ly/2VnXWr2\" width=\"100\" align=\"left\">"
   ]
  },
  {
   "cell_type": "markdown",
   "metadata": {},
   "source": [
    "# Bus\n",
    "\n",
    "This bus has a passenger entry and exit control system to monitor the number of occupants it carries and thus detect when there are too many.\n",
    "\n",
    "At each stop, the entry and exit of passengers is represented by a tuple consisting of two integer numbers.\n",
    "```\n",
    "bus_stop = (in, out)\n",
    "```\n",
    "The succession of stops is represented by a list of these tuples.\n",
    "```\n",
    "stops = [(in1, out1), (in2, out2), (in3, out3), (in4, out4)]\n",
    "```\n",
    "\n",
    "## Tools\n",
    "You don't necessarily need to use all the tools. Maybe you opt to use some of them or completely different ones, they are given to help you shape the exercise. Programming exercises can be solved in many different ways.\n",
    "* Data structures: **lists, tuples**\n",
    "* Loop: **while/for loops**\n",
    "* Functions: **min, max, len**\n",
    "\n",
    "## Tasks"
   ]
  },
  {
   "cell_type": "code",
   "execution_count": 1,
   "metadata": {},
   "outputs": [],
   "source": [
    "# Variables\n",
    "stops = [(10, 0), (4, 1), (3, 5), (3, 4), (5, 1), (1, 5), (5, 8), (4, 6), (2, 3)]"
   ]
  },
  {
   "cell_type": "markdown",
   "metadata": {},
   "source": [
    "#### 1. Calculate the number of stops."
   ]
  },
  {
   "cell_type": "code",
   "execution_count": 2,
   "metadata": {},
   "outputs": [
    {
     "name": "stdout",
     "output_type": "stream",
     "text": [
      "9\n"
     ]
    }
   ],
   "source": [
    "print(len(stops))"
   ]
  },
  {
   "cell_type": "markdown",
   "metadata": {},
   "source": [
    "#### 2. Assign to a variable a list whose elements are the number of passengers at each stop (in-out).\n",
    "Each item depends on the previous item in the list + in - out."
   ]
  },
  {
   "cell_type": "code",
   "execution_count": 3,
   "metadata": {},
   "outputs": [
    {
     "name": "stdout",
     "output_type": "stream",
     "text": [
      "En la parada 1  hay 10 pasajeros.\n",
      "En la parada 2  hay 13 pasajeros.\n",
      "En la parada 3  hay 11 pasajeros.\n",
      "En la parada 4  hay 10 pasajeros.\n",
      "En la parada 5  hay 14 pasajeros.\n",
      "En la parada 6  hay 10 pasajeros.\n",
      "En la parada 7  hay 7 pasajeros.\n",
      "En la parada 8  hay 5 pasajeros.\n",
      "En la parada 9  hay 4 pasajeros.\n"
     ]
    }
   ],
   "source": [
    "pasajeros = 0\n",
    "parada = 0\n",
    "for stop in stops:\n",
    "    parada += 1\n",
    "    entran = stop[0]\n",
    "    salen = stop[1]\n",
    "    pasajeros += (entran - salen)\n",
    "    print('En la parada ' + str(parada) + '  hay ' + str(pasajeros) + ' pasajeros.')"
   ]
  },
  {
   "cell_type": "markdown",
   "metadata": {},
   "source": [
    "#### 3. Find the maximum occupation of the bus."
   ]
  },
  {
   "cell_type": "code",
   "execution_count": 4,
   "metadata": {},
   "outputs": [
    {
     "name": "stdout",
     "output_type": "stream",
     "text": [
      "En el momento de maxima ocupación hay 14 pasajeros en el autobus\n"
     ]
    }
   ],
   "source": [
    "pasajeros_parada = 0\n",
    "pasajeros_viaje = []\n",
    "\n",
    "for stop in stops:\n",
    "    entran = stop[0]\n",
    "    salen = stop[1]\n",
    "    pasajeros_parada += (entran - salen)\n",
    "    pasajeros_viaje.append(pasajeros_parada)\n",
    "    \n",
    "print('En el momento de maxima ocupación hay ' + str(max(pasajeros_viaje)) + ' pasajeros en el autobus')"
   ]
  },
  {
   "cell_type": "markdown",
   "metadata": {},
   "source": [
    "#### 4. Calculate the average occupation. And the standard deviation."
   ]
  },
  {
   "cell_type": "code",
   "execution_count": 12,
   "metadata": {},
   "outputs": [
    {
     "name": "stdout",
     "output_type": "stream",
     "text": [
      "Average Occupation: 9.33\n",
      "Standar Deviation: 3.39\n"
     ]
    }
   ],
   "source": [
    "ocp_avg = round(sum(pasajeros_viaje)/len(pasajeros_viaje),2)\n",
    "print('Average Occupation: '+ str(ocp_avg))\n",
    "\n",
    "from statistics import stdev\n",
    "\n",
    "stdev_pasajeros = round(stdev(pasajeros_viaje),2)\n",
    "print('Standar Deviation: ' + str(stdev_pasajeros))"
   ]
  },
  {
   "cell_type": "code",
   "execution_count": null,
   "metadata": {},
   "outputs": [],
   "source": []
  }
 ],
 "metadata": {
  "kernelspec": {
   "display_name": "Python 3",
   "language": "python",
   "name": "python3"
  },
  "language_info": {
   "codemirror_mode": {
    "name": "ipython",
    "version": 3
   },
   "file_extension": ".py",
   "mimetype": "text/x-python",
   "name": "python",
   "nbconvert_exporter": "python",
   "pygments_lexer": "ipython3",
   "version": "3.7.6"
  }
 },
 "nbformat": 4,
 "nbformat_minor": 2
}
